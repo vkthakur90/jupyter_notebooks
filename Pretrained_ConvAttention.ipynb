{
  "nbformat": 4,
  "nbformat_minor": 0,
  "metadata": {
    "colab": {
      "provenance": [],
      "gpuType": "T4",
      "authorship_tag": "ABX9TyNIZua8EYPirhLFgTmJU4r7",
      "include_colab_link": true
    },
    "kernelspec": {
      "name": "python3",
      "display_name": "Python 3"
    },
    "language_info": {
      "name": "python"
    },
    "accelerator": "GPU"
  },
  "cells": [
    {
      "cell_type": "markdown",
      "metadata": {
        "id": "view-in-github",
        "colab_type": "text"
      },
      "source": [
        "<a href=\"https://colab.research.google.com/github/vkthakur90/jupyter_notebooks/blob/master/Pretrained_ConvAttention.ipynb\" target=\"_parent\"><img src=\"https://colab.research.google.com/assets/colab-badge.svg\" alt=\"Open In Colab\"/></a>"
      ]
    },
    {
      "cell_type": "code",
      "execution_count": 1,
      "metadata": {
        "id": "ZY0tQiwzrs9n"
      },
      "outputs": [],
      "source": [
        "import numpy as np\n",
        "import pandas as pd\n",
        "import seaborn as sns\n",
        "import matplotlib.pyplot as plt"
      ]
    },
    {
      "cell_type": "code",
      "source": [
        "import tensorflow as tf\n",
        "import tensorflow.keras as tfk\n",
        "import tensorflow.keras.models as tfkm\n",
        "import tensorflow.keras.layers as tfkl\n",
        "import tensorflow.keras.utils as tfku"
      ],
      "metadata": {
        "id": "domCcWPdsE67"
      },
      "execution_count": 2,
      "outputs": []
    },
    {
      "cell_type": "code",
      "source": [
        "(x_train, y_train), (x_test, y_test) = tfk.datasets.cifar10.load_data()"
      ],
      "metadata": {
        "id": "ucX-am3-tETW"
      },
      "execution_count": 3,
      "outputs": []
    },
    {
      "cell_type": "code",
      "source": [
        "def create_model():\n",
        "    input_images = tfkl.Input([32, 32, 3])\n",
        "    input_labels = tfkl.Input([2])\n",
        "\n",
        "    base_model = tfk.applications.InceptionResNetV2(include_top = False, input_shape = [75, 75, 3], weights = 'imagenet', pooling = None)\n",
        "    base_model.trainable = False\n",
        "\n",
        "    x = input_images\n",
        "    x = tfkl.Lambda(lambda t: tf.image.resize_with_pad(t, target_height = 75, target_width = 75))(x)\n",
        "    x = tfkl.Lambda(lambda t: tfk.applications.inception_resnet_v2.preprocess_input(t))(x)\n",
        "    x = base_model(x)\n",
        "    x = tfkl.Reshape([-1, 1536])(x)\n",
        "\n",
        "    y = tfkl.Embedding(input_dim = 2, output_dim = 1536)(input_labels)\n",
        "\n",
        "    res = y\n",
        "    y = tfkl.Attention(use_scale = True)([y, x])\n",
        "    y = tfkl.Add()([y, res])\n",
        "\n",
        "    y = tfkl.Flatten()(y)\n",
        "    y = tfkl.Dense(10, activation = 'softmax')(y)\n",
        "    out = y\n",
        "\n",
        "    model = tfkm.Model(inputs = [input_images, input_labels], outputs = [out])\n",
        "\n",
        "    model.compile(\n",
        "        optimizer = 'adam',\n",
        "        loss = 'sparse_categorical_crossentropy',\n",
        "        metrics = ['accuracy']\n",
        "    )\n",
        "\n",
        "    return model"
      ],
      "metadata": {
        "id": "RQko-2sTXaIk"
      },
      "execution_count": 4,
      "outputs": []
    },
    {
      "cell_type": "code",
      "source": [
        "model = create_model()"
      ],
      "metadata": {
        "id": "sH9ix9ADPiYX"
      },
      "execution_count": 5,
      "outputs": []
    },
    {
      "cell_type": "code",
      "source": [
        "model.summary()"
      ],
      "metadata": {
        "colab": {
          "base_uri": "https://localhost:8080/"
        },
        "id": "_eCu5LkQQYgI",
        "outputId": "954731a7-a7e3-4d57-8793-99d866d0bad9"
      },
      "execution_count": 6,
      "outputs": [
        {
          "output_type": "stream",
          "name": "stdout",
          "text": [
            "Model: \"model\"\n",
            "__________________________________________________________________________________________________\n",
            " Layer (type)                Output Shape                 Param #   Connected to                  \n",
            "==================================================================================================\n",
            " input_1 (InputLayer)        [(None, 32, 32, 3)]          0         []                            \n",
            "                                                                                                  \n",
            " lambda (Lambda)             (None, 75, 75, 3)            0         ['input_1[0][0]']             \n",
            "                                                                                                  \n",
            " lambda_1 (Lambda)           (None, 75, 75, 3)            0         ['lambda[0][0]']              \n",
            "                                                                                                  \n",
            " input_2 (InputLayer)        [(None, 2)]                  0         []                            \n",
            "                                                                                                  \n",
            " inception_resnet_v2 (Funct  (None, 1, 1, 1536)           5433673   ['lambda_1[0][0]']            \n",
            " ional)                                                   6                                       \n",
            "                                                                                                  \n",
            " embedding (Embedding)       (None, 2, 1536)              3072      ['input_2[0][0]']             \n",
            "                                                                                                  \n",
            " reshape (Reshape)           (None, 1, 1536)              0         ['inception_resnet_v2[0][0]'] \n",
            "                                                                                                  \n",
            " attention (Attention)       (None, 2, 1536)              1         ['embedding[0][0]',           \n",
            "                                                                     'reshape[0][0]']             \n",
            "                                                                                                  \n",
            " add (Add)                   (None, 2, 1536)              0         ['attention[0][0]',           \n",
            "                                                                     'embedding[0][0]']           \n",
            "                                                                                                  \n",
            " flatten (Flatten)           (None, 3072)                 0         ['add[0][0]']                 \n",
            "                                                                                                  \n",
            " dense (Dense)               (None, 10)                   30730     ['flatten[0][0]']             \n",
            "                                                                                                  \n",
            "==================================================================================================\n",
            "Total params: 54370539 (207.41 MB)\n",
            "Trainable params: 33803 (132.04 KB)\n",
            "Non-trainable params: 54336736 (207.28 MB)\n",
            "__________________________________________________________________________________________________\n"
          ]
        }
      ]
    },
    {
      "cell_type": "code",
      "source": [
        "train_label = np.concatenate([0 * np.ones_like(y_train), np.ones_like(y_train)], axis = -1)"
      ],
      "metadata": {
        "id": "sZyGkSrsUSXF"
      },
      "execution_count": 7,
      "outputs": []
    },
    {
      "cell_type": "code",
      "source": [
        "model.fit(x = [x_train, train_label], y = y_train, epochs = 1, batch_size = 8, shuffle = True)"
      ],
      "metadata": {
        "colab": {
          "base_uri": "https://localhost:8080/"
        },
        "id": "2HWE7VHdUciI",
        "outputId": "6ba997e8-0061-4a9e-c0bc-7f3780074c07"
      },
      "execution_count": 8,
      "outputs": [
        {
          "output_type": "stream",
          "name": "stdout",
          "text": [
            "6250/6250 [==============================] - 184s 26ms/step - loss: 1.8051 - accuracy: 0.6551\n"
          ]
        },
        {
          "output_type": "execute_result",
          "data": {
            "text/plain": [
              "<keras.src.callbacks.History at 0x79f3b0238c40>"
            ]
          },
          "metadata": {},
          "execution_count": 8
        }
      ]
    },
    {
      "cell_type": "code",
      "source": [
        "test_label = np.concatenate([0 * np.ones_like(y_test), np.ones_like(y_test)], axis = -1)"
      ],
      "metadata": {
        "id": "OdOKNoVYUm15"
      },
      "execution_count": 9,
      "outputs": []
    },
    {
      "cell_type": "code",
      "source": [
        "model.evaluate(x = [x_test, test_label], y = y_test)"
      ],
      "metadata": {
        "colab": {
          "base_uri": "https://localhost:8080/"
        },
        "id": "bJ_sdeUjXBnM",
        "outputId": "74f6dce4-7f5b-4cc0-cf5f-6d065b4b9f30"
      },
      "execution_count": 10,
      "outputs": [
        {
          "output_type": "stream",
          "name": "stdout",
          "text": [
            "313/313 [==============================] - 21s 53ms/step - loss: 1.6833 - accuracy: 0.6868\n"
          ]
        },
        {
          "output_type": "execute_result",
          "data": {
            "text/plain": [
              "[1.68329918384552, 0.6868000030517578]"
            ]
          },
          "metadata": {},
          "execution_count": 10
        }
      ]
    },
    {
      "cell_type": "code",
      "source": [],
      "metadata": {
        "id": "3Ds5O32GXKAd"
      },
      "execution_count": 10,
      "outputs": []
    }
  ]
}