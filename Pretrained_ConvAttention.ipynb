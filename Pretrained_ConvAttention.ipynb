{
  "nbformat": 4,
  "nbformat_minor": 0,
  "metadata": {
    "colab": {
      "provenance": [],
      "gpuType": "T4",
      "authorship_tag": "ABX9TyMX0VDo60oCsA54xvvGaIpW",
      "include_colab_link": true
    },
    "kernelspec": {
      "name": "python3",
      "display_name": "Python 3"
    },
    "language_info": {
      "name": "python"
    },
    "accelerator": "GPU"
  },
  "cells": [
    {
      "cell_type": "markdown",
      "metadata": {
        "id": "view-in-github",
        "colab_type": "text"
      },
      "source": [
        "<a href=\"https://colab.research.google.com/github/vkthakur90/jupyter_notebooks/blob/master/Pretrained_ConvAttention.ipynb\" target=\"_parent\"><img src=\"https://colab.research.google.com/assets/colab-badge.svg\" alt=\"Open In Colab\"/></a>"
      ]
    },
    {
      "cell_type": "code",
      "execution_count": 1,
      "metadata": {
        "id": "ZY0tQiwzrs9n"
      },
      "outputs": [],
      "source": [
        "import numpy as np\n",
        "import pandas as pd\n",
        "import seaborn as sns\n",
        "import matplotlib.pyplot as plt"
      ]
    },
    {
      "cell_type": "code",
      "source": [
        "import tensorflow as tf\n",
        "import tensorflow.keras as tfk\n",
        "import tensorflow.keras.models as tfkm\n",
        "import tensorflow.keras.layers as tfkl\n",
        "import tensorflow.keras.utils as tfku"
      ],
      "metadata": {
        "id": "domCcWPdsE67"
      },
      "execution_count": 2,
      "outputs": []
    },
    {
      "cell_type": "code",
      "source": [
        "(x_train, y_train), (x_test, y_test) = tfk.datasets.cifar10.load_data()"
      ],
      "metadata": {
        "id": "ucX-am3-tETW"
      },
      "execution_count": 3,
      "outputs": []
    },
    {
      "cell_type": "code",
      "source": [
        "def create_model():\n",
        "    input_images = tfkl.Input([32, 32, 3])\n",
        "    input_labels = tfkl.Input([1])\n",
        "\n",
        "    base_model = tfk.applications.InceptionResNetV2(include_top = False, input_shape = [75, 75, 3], weights = 'imagenet', pooling = None)\n",
        "    base_model.trainable = False\n",
        "\n",
        "    x = input_images\n",
        "    x = tfkl.Lambda(lambda t: tf.image.resize_with_pad(t, target_height = 75, target_width = 75))(x)\n",
        "    x = tfkl.Lambda(lambda t: tfk.applications.inception_resnet_v2.preprocess_input(t))(x)\n",
        "    x = base_model(x)\n",
        "    x = tfkl.Reshape([-1, 1536])(x)\n",
        "\n",
        "    y = tfkl.Embedding(input_dim = 1, output_dim = 1536)(input_labels)\n",
        "\n",
        "    res = y\n",
        "    y = tfkl.Attention(use_scale = True)([y, x])\n",
        "    y = tfkl.Add()([y, res])\n",
        "\n",
        "    res = y\n",
        "    y = tfkl.Attention(use_scale = True)([y, x])\n",
        "    y = tfkl.Add()([y, res])\n",
        "\n",
        "    y = tfkl.Flatten()(y)\n",
        "    y = tfkl.Dense(10, activation = 'softmax')(y)\n",
        "    out = y\n",
        "\n",
        "    model = tfkm.Model(inputs = [input_images, input_labels], outputs = [out])\n",
        "\n",
        "    model.compile(\n",
        "        optimizer = 'adam',\n",
        "        loss = 'sparse_categorical_crossentropy',\n",
        "        metrics = ['accuracy']\n",
        "    )\n",
        "\n",
        "    return model"
      ],
      "metadata": {
        "id": "RQko-2sTXaIk"
      },
      "execution_count": 4,
      "outputs": []
    },
    {
      "cell_type": "code",
      "source": [
        "model = create_model()"
      ],
      "metadata": {
        "id": "sH9ix9ADPiYX"
      },
      "execution_count": 5,
      "outputs": []
    },
    {
      "cell_type": "code",
      "source": [
        "model.summary()"
      ],
      "metadata": {
        "colab": {
          "base_uri": "https://localhost:8080/"
        },
        "id": "_eCu5LkQQYgI",
        "outputId": "b142277d-6736-46bd-8aab-d68919ec603a"
      },
      "execution_count": 6,
      "outputs": [
        {
          "output_type": "stream",
          "name": "stdout",
          "text": [
            "Model: \"model\"\n",
            "__________________________________________________________________________________________________\n",
            " Layer (type)                Output Shape                 Param #   Connected to                  \n",
            "==================================================================================================\n",
            " input_1 (InputLayer)        [(None, 32, 32, 3)]          0         []                            \n",
            "                                                                                                  \n",
            " lambda (Lambda)             (None, 75, 75, 3)            0         ['input_1[0][0]']             \n",
            "                                                                                                  \n",
            " lambda_1 (Lambda)           (None, 75, 75, 3)            0         ['lambda[0][0]']              \n",
            "                                                                                                  \n",
            " input_2 (InputLayer)        [(None, 1)]                  0         []                            \n",
            "                                                                                                  \n",
            " inception_resnet_v2 (Funct  (None, 1, 1, 1536)           5433673   ['lambda_1[0][0]']            \n",
            " ional)                                                   6                                       \n",
            "                                                                                                  \n",
            " embedding (Embedding)       (None, 1, 1536)              1536      ['input_2[0][0]']             \n",
            "                                                                                                  \n",
            " reshape (Reshape)           (None, 1, 1536)              0         ['inception_resnet_v2[0][0]'] \n",
            "                                                                                                  \n",
            " attention (Attention)       (None, 1, 1536)              1         ['embedding[0][0]',           \n",
            "                                                                     'reshape[0][0]']             \n",
            "                                                                                                  \n",
            " add (Add)                   (None, 1, 1536)              0         ['attention[0][0]',           \n",
            "                                                                     'embedding[0][0]']           \n",
            "                                                                                                  \n",
            " attention_1 (Attention)     (None, 1, 1536)              1         ['add[0][0]',                 \n",
            "                                                                     'reshape[0][0]']             \n",
            "                                                                                                  \n",
            " add_1 (Add)                 (None, 1, 1536)              0         ['attention_1[0][0]',         \n",
            "                                                                     'add[0][0]']                 \n",
            "                                                                                                  \n",
            " flatten (Flatten)           (None, 1536)                 0         ['add_1[0][0]']               \n",
            "                                                                                                  \n",
            " dense (Dense)               (None, 10)                   15370     ['flatten[0][0]']             \n",
            "                                                                                                  \n",
            "==================================================================================================\n",
            "Total params: 54353644 (207.34 MB)\n",
            "Trainable params: 16908 (66.05 KB)\n",
            "Non-trainable params: 54336736 (207.28 MB)\n",
            "__________________________________________________________________________________________________\n"
          ]
        }
      ]
    },
    {
      "cell_type": "code",
      "source": [
        "train_label = np.zeros_like(y_train)"
      ],
      "metadata": {
        "id": "sZyGkSrsUSXF"
      },
      "execution_count": 7,
      "outputs": []
    },
    {
      "cell_type": "code",
      "source": [
        "model.fit(x = [x_train, train_label], y = y_train, epochs = 1, batch_size = 8, shuffle = True)"
      ],
      "metadata": {
        "colab": {
          "base_uri": "https://localhost:8080/"
        },
        "id": "2HWE7VHdUciI",
        "outputId": "e372797d-6357-42ca-8364-72ce24b9cbb2"
      },
      "execution_count": 8,
      "outputs": [
        {
          "output_type": "stream",
          "name": "stdout",
          "text": [
            "6250/6250 [==============================] - 191s 28ms/step - loss: 1.9287 - accuracy: 0.6474\n"
          ]
        },
        {
          "output_type": "execute_result",
          "data": {
            "text/plain": [
              "<keras.src.callbacks.History at 0x7978e84e7b80>"
            ]
          },
          "metadata": {},
          "execution_count": 8
        }
      ]
    },
    {
      "cell_type": "code",
      "source": [
        "test_label = np.zeros_like(y_test)"
      ],
      "metadata": {
        "id": "OdOKNoVYUm15"
      },
      "execution_count": 9,
      "outputs": []
    },
    {
      "cell_type": "code",
      "source": [
        "model.evaluate(x = [x_test, test_label], y = y_test)"
      ],
      "metadata": {
        "colab": {
          "base_uri": "https://localhost:8080/"
        },
        "id": "bJ_sdeUjXBnM",
        "outputId": "14069ab5-c4a6-46c9-be1e-4035aa6c3695"
      },
      "execution_count": 10,
      "outputs": [
        {
          "output_type": "stream",
          "name": "stdout",
          "text": [
            "313/313 [==============================] - 16s 38ms/step - loss: 1.7248 - accuracy: 0.6867\n"
          ]
        },
        {
          "output_type": "execute_result",
          "data": {
            "text/plain": [
              "[1.724797248840332, 0.6866999864578247]"
            ]
          },
          "metadata": {},
          "execution_count": 10
        }
      ]
    },
    {
      "cell_type": "code",
      "source": [],
      "metadata": {
        "id": "3Ds5O32GXKAd"
      },
      "execution_count": 10,
      "outputs": []
    }
  ]
}