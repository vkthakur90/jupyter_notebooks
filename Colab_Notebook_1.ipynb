{
  "nbformat": 4,
  "nbformat_minor": 0,
  "metadata": {
    "colab": {
      "name": "Untitled0.ipynb",
      "version": "0.3.2",
      "provenance": [],
      "include_colab_link": true
    },
    "kernelspec": {
      "name": "python3",
      "display_name": "Python 3"
    }
  },
  "cells": [
    {
      "cell_type": "markdown",
      "metadata": {
        "id": "view-in-github",
        "colab_type": "text"
      },
      "source": [
        "<a href=\"https://colab.research.google.com/github/vkthakur90/jupyter_notebooks/blob/master/Colab_Notebook_1.ipynb\" target=\"_parent\"><img src=\"https://colab.research.google.com/assets/colab-badge.svg\" alt=\"Open In Colab\"/></a>"
      ]
    },
    {
      "metadata": {
        "id": "bMgvxEDXfWxh",
        "colab_type": "text"
      },
      "cell_type": "markdown",
      "source": [
        "# First Notebook created using Google colab"
      ]
    },
    {
      "metadata": {
        "id": "7qoAUHBhf1gz",
        "colab_type": "text"
      },
      "cell_type": "markdown",
      "source": [
        "## Imports"
      ]
    },
    {
      "metadata": {
        "id": "4390qEL6figq",
        "colab_type": "code",
        "colab": {}
      },
      "cell_type": "code",
      "source": [
        "import numpy as np\n",
        "import pandas as pd\n",
        "import seaborn as sns\n",
        "import scipy.linalg as la"
      ],
      "execution_count": 0,
      "outputs": []
    },
    {
      "metadata": {
        "id": "wCssSUQigfcM",
        "colab_type": "text"
      },
      "cell_type": "markdown",
      "source": [
        "## Creating sample input data"
      ]
    },
    {
      "metadata": {
        "id": "dh7byc1Cgjsa",
        "colab_type": "code",
        "colab": {}
      },
      "cell_type": "code",
      "source": [
        "x = np.random.uniform(low = -50, high = 50, size = 100 * 100 + 1)\n",
        "err = np.random.normal(loc = 0, scale = 5, size = 100 * 100 + 1)"
      ],
      "execution_count": 0,
      "outputs": []
    },
    {
      "metadata": {
        "id": "OBu7fWHhhD_O",
        "colab_type": "code",
        "colab": {
          "base_uri": "https://localhost:8080/",
          "height": 206
        },
        "outputId": "97aa0d14-3d6d-47c2-af02-3708db1af9db"
      },
      "cell_type": "code",
      "source": [
        "data = pd.DataFrame(dict(x = x, e = err))\n",
        "display(data.head())"
      ],
      "execution_count": 3,
      "outputs": [
        {
          "output_type": "display_data",
          "data": {
            "text/html": [
              "<div>\n",
              "<style scoped>\n",
              "    .dataframe tbody tr th:only-of-type {\n",
              "        vertical-align: middle;\n",
              "    }\n",
              "\n",
              "    .dataframe tbody tr th {\n",
              "        vertical-align: top;\n",
              "    }\n",
              "\n",
              "    .dataframe thead th {\n",
              "        text-align: right;\n",
              "    }\n",
              "</style>\n",
              "<table border=\"1\" class=\"dataframe\">\n",
              "  <thead>\n",
              "    <tr style=\"text-align: right;\">\n",
              "      <th></th>\n",
              "      <th>e</th>\n",
              "      <th>x</th>\n",
              "    </tr>\n",
              "  </thead>\n",
              "  <tbody>\n",
              "    <tr>\n",
              "      <th>0</th>\n",
              "      <td>-4.016060</td>\n",
              "      <td>-23.459659</td>\n",
              "    </tr>\n",
              "    <tr>\n",
              "      <th>1</th>\n",
              "      <td>0.148059</td>\n",
              "      <td>-28.091763</td>\n",
              "    </tr>\n",
              "    <tr>\n",
              "      <th>2</th>\n",
              "      <td>-1.814835</td>\n",
              "      <td>-18.321986</td>\n",
              "    </tr>\n",
              "    <tr>\n",
              "      <th>3</th>\n",
              "      <td>3.793773</td>\n",
              "      <td>7.359551</td>\n",
              "    </tr>\n",
              "    <tr>\n",
              "      <th>4</th>\n",
              "      <td>5.158347</td>\n",
              "      <td>39.170301</td>\n",
              "    </tr>\n",
              "  </tbody>\n",
              "</table>\n",
              "</div>"
            ],
            "text/plain": [
              "          e          x\n",
              "0 -4.016060 -23.459659\n",
              "1  0.148059 -28.091763\n",
              "2 -1.814835 -18.321986\n",
              "3  3.793773   7.359551\n",
              "4  5.158347  39.170301"
            ]
          },
          "metadata": {
            "tags": []
          }
        }
      ]
    },
    {
      "metadata": {
        "id": "6Sm0sF1phZwf",
        "colab_type": "text"
      },
      "cell_type": "markdown",
      "source": [
        "## Creating model from data"
      ]
    },
    {
      "metadata": {
        "id": "iZUHNnhrhe9A",
        "colab_type": "text"
      },
      "cell_type": "markdown",
      "source": [
        "\\begin{equation}\n",
        "    y = 10 + 15 x - 25 x^2\n",
        "\\end{equation}"
      ]
    },
    {
      "metadata": {
        "id": "FekCDdrUhR-C",
        "colab_type": "code",
        "colab": {
          "base_uri": "https://localhost:8080/",
          "height": 206
        },
        "outputId": "0f125c34-217c-41a5-94b9-796f501b80e1"
      },
      "cell_type": "code",
      "source": [
        "data.eval('y = 10 + 15 * x - 25 * x ** 2 + e', inplace = True)\n",
        "display(data.head())"
      ],
      "execution_count": 4,
      "outputs": [
        {
          "output_type": "display_data",
          "data": {
            "text/html": [
              "<div>\n",
              "<style scoped>\n",
              "    .dataframe tbody tr th:only-of-type {\n",
              "        vertical-align: middle;\n",
              "    }\n",
              "\n",
              "    .dataframe tbody tr th {\n",
              "        vertical-align: top;\n",
              "    }\n",
              "\n",
              "    .dataframe thead th {\n",
              "        text-align: right;\n",
              "    }\n",
              "</style>\n",
              "<table border=\"1\" class=\"dataframe\">\n",
              "  <thead>\n",
              "    <tr style=\"text-align: right;\">\n",
              "      <th></th>\n",
              "      <th>e</th>\n",
              "      <th>x</th>\n",
              "      <th>y</th>\n",
              "    </tr>\n",
              "  </thead>\n",
              "  <tbody>\n",
              "    <tr>\n",
              "      <th>0</th>\n",
              "      <td>-4.016060</td>\n",
              "      <td>-23.459659</td>\n",
              "      <td>-14104.801194</td>\n",
              "    </tr>\n",
              "    <tr>\n",
              "      <th>1</th>\n",
              "      <td>0.148059</td>\n",
              "      <td>-28.091763</td>\n",
              "      <td>-20139.907638</td>\n",
              "    </tr>\n",
              "    <tr>\n",
              "      <th>2</th>\n",
              "      <td>-1.814835</td>\n",
              "      <td>-18.321986</td>\n",
              "      <td>-8659.023534</td>\n",
              "    </tr>\n",
              "    <tr>\n",
              "      <th>3</th>\n",
              "      <td>3.793773</td>\n",
              "      <td>7.359551</td>\n",
              "      <td>-1229.887866</td>\n",
              "    </tr>\n",
              "    <tr>\n",
              "      <th>4</th>\n",
              "      <td>5.158347</td>\n",
              "      <td>39.170301</td>\n",
              "      <td>-37755.099053</td>\n",
              "    </tr>\n",
              "  </tbody>\n",
              "</table>\n",
              "</div>"
            ],
            "text/plain": [
              "          e          x             y\n",
              "0 -4.016060 -23.459659 -14104.801194\n",
              "1  0.148059 -28.091763 -20139.907638\n",
              "2 -1.814835 -18.321986  -8659.023534\n",
              "3  3.793773   7.359551  -1229.887866\n",
              "4  5.158347  39.170301 -37755.099053"
            ]
          },
          "metadata": {
            "tags": []
          }
        }
      ]
    },
    {
      "metadata": {
        "id": "kILGF2nxiDTz",
        "colab_type": "text"
      },
      "cell_type": "markdown",
      "source": [
        "## Visualizing Raw Data"
      ]
    },
    {
      "metadata": {
        "id": "qt_2OeqYiGBd",
        "colab_type": "code",
        "colab": {
          "base_uri": "https://localhost:8080/",
          "height": 437
        },
        "outputId": "921f241e-068f-4205-da93-b7ac9e1f7cc0"
      },
      "cell_type": "code",
      "source": [
        "_ = sns.jointplot(x = 'x', y = 'y', data = data)"
      ],
      "execution_count": 5,
      "outputs": [
        {
          "output_type": "display_data",
          "data": {
            "image/png": "[encoded data removed]",
            "text/plain": [
              "<matplotlib.figure.Figure at 0x7f4f1e232a90>"
            ]
          },
          "metadata": {
            "tags": []
          }
        }
      ]
    },
    {
      "metadata": {
        "id": "jeioahWSi-N5",
        "colab_type": "text"
      },
      "cell_type": "markdown",
      "source": [
        "## Fitting linear model"
      ]
    },
    {
      "metadata": {
        "id": "ih4MMuhGjDQJ",
        "colab_type": "code",
        "colab": {
          "base_uri": "https://localhost:8080/",
          "height": 238
        },
        "outputId": "709eca1b-13e9-4d59-b87f-9fa1864a2962"
      },
      "cell_type": "code",
      "source": [
        "design_matrix = pd.DataFrame({\n",
        "    ('features', '1') : data['x'].apply(lambda x: 1),\n",
        "    ('features', 'x') : data['x'],\n",
        "    ('features', 'x**2') : data['x'].apply(lambda x: x**2),\n",
        "    ('labels', 'y') : data['y']\n",
        "})\n",
        "\n",
        "display(design_matrix.head())"
      ],
      "execution_count": 6,
      "outputs": [
        {
          "output_type": "display_data",
          "data": {
            "text/html": [
              "<div>\n",
              "<style scoped>\n",
              "    .dataframe tbody tr th:only-of-type {\n",
              "        vertical-align: middle;\n",
              "    }\n",
              "\n",
              "    .dataframe tbody tr th {\n",
              "        vertical-align: top;\n",
              "    }\n",
              "\n",
              "    .dataframe thead tr th {\n",
              "        text-align: left;\n",
              "    }\n",
              "</style>\n",
              "<table border=\"1\" class=\"dataframe\">\n",
              "  <thead>\n",
              "    <tr>\n",
              "      <th></th>\n",
              "      <th colspan=\"3\" halign=\"left\">features</th>\n",
              "      <th>labels</th>\n",
              "    </tr>\n",
              "    <tr>\n",
              "      <th></th>\n",
              "      <th>1</th>\n",
              "      <th>x</th>\n",
              "      <th>x**2</th>\n",
              "      <th>y</th>\n",
              "    </tr>\n",
              "  </thead>\n",
              "  <tbody>\n",
              "    <tr>\n",
              "      <th>0</th>\n",
              "      <td>1</td>\n",
              "      <td>-23.459659</td>\n",
              "      <td>550.355610</td>\n",
              "      <td>-14104.801194</td>\n",
              "    </tr>\n",
              "    <tr>\n",
              "      <th>1</th>\n",
              "      <td>1</td>\n",
              "      <td>-28.091763</td>\n",
              "      <td>789.147170</td>\n",
              "      <td>-20139.907638</td>\n",
              "    </tr>\n",
              "    <tr>\n",
              "      <th>2</th>\n",
              "      <td>1</td>\n",
              "      <td>-18.321986</td>\n",
              "      <td>335.695157</td>\n",
              "      <td>-8659.023534</td>\n",
              "    </tr>\n",
              "    <tr>\n",
              "      <th>3</th>\n",
              "      <td>1</td>\n",
              "      <td>7.359551</td>\n",
              "      <td>54.162996</td>\n",
              "      <td>-1229.887866</td>\n",
              "    </tr>\n",
              "    <tr>\n",
              "      <th>4</th>\n",
              "      <td>1</td>\n",
              "      <td>39.170301</td>\n",
              "      <td>1534.312477</td>\n",
              "      <td>-37755.099053</td>\n",
              "    </tr>\n",
              "  </tbody>\n",
              "</table>\n",
              "</div>"
            ],
            "text/plain": [
              "  features                                labels\n",
              "         1          x         x**2             y\n",
              "0        1 -23.459659   550.355610 -14104.801194\n",
              "1        1 -28.091763   789.147170 -20139.907638\n",
              "2        1 -18.321986   335.695157  -8659.023534\n",
              "3        1   7.359551    54.162996  -1229.887866\n",
              "4        1  39.170301  1534.312477 -37755.099053"
            ]
          },
          "metadata": {
            "tags": []
          }
        }
      ]
    },
    {
      "metadata": {
        "id": "feUNgfcGkFP2",
        "colab_type": "text"
      },
      "cell_type": "markdown",
      "source": [
        "## Calculation of parameters using design matrix"
      ]
    },
    {
      "metadata": {
        "id": "2Xgznt4qjNwB",
        "colab_type": "code",
        "colab": {}
      },
      "cell_type": "code",
      "source": [
        "X = np.matrix(design_matrix['features'])\n",
        "Y = np.matrix(design_matrix['labels'])"
      ],
      "execution_count": 0,
      "outputs": []
    },
    {
      "metadata": {
        "id": "EqXYuj3LkYA-",
        "colab_type": "code",
        "colab": {}
      },
      "cell_type": "code",
      "source": [
        "C = la.inv(X.T * X) * (X.T * Y)"
      ],
      "execution_count": 0,
      "outputs": []
    },
    {
      "metadata": {
        "id": "bQjWSchckgBf",
        "colab_type": "code",
        "colab": {
          "base_uri": "https://localhost:8080/",
          "height": 81
        },
        "outputId": "39848e81-5ccf-4dcc-a39f-138b3c61a88a"
      },
      "cell_type": "code",
      "source": [
        "pd.DataFrame(C.T, columns = ['Intercept', 'x', 'I(x**2)'], index = ['coeff'])"
      ],
      "execution_count": 9,
      "outputs": [
        {
          "output_type": "execute_result",
          "data": {
            "text/html": [
              "<div>\n",
              "<style scoped>\n",
              "    .dataframe tbody tr th:only-of-type {\n",
              "        vertical-align: middle;\n",
              "    }\n",
              "\n",
              "    .dataframe tbody tr th {\n",
              "        vertical-align: top;\n",
              "    }\n",
              "\n",
              "    .dataframe thead th {\n",
              "        text-align: right;\n",
              "    }\n",
              "</style>\n",
              "<table border=\"1\" class=\"dataframe\">\n",
              "  <thead>\n",
              "    <tr style=\"text-align: right;\">\n",
              "      <th></th>\n",
              "      <th>Intercept</th>\n",
              "      <th>x</th>\n",
              "      <th>I(x**2)</th>\n",
              "    </tr>\n",
              "  </thead>\n",
              "  <tbody>\n",
              "    <tr>\n",
              "      <th>coeff</th>\n",
              "      <td>9.996569</td>\n",
              "      <td>14.999023</td>\n",
              "      <td>-24.999945</td>\n",
              "    </tr>\n",
              "  </tbody>\n",
              "</table>\n",
              "</div>"
            ],
            "text/plain": [
              "       Intercept          x    I(x**2)\n",
              "coeff   9.996569  14.999023 -24.999945"
            ]
          },
          "metadata": {
            "tags": []
          },
          "execution_count": 9
        }
      ]
    }
  ]
}