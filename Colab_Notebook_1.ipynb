{
  "nbformat": 4,
  "nbformat_minor": 0,
  "metadata": {
    "colab": {
      "name": "Untitled0.ipynb",
      "version": "0.3.2",
      "provenance": [],
      "include_colab_link": true
    },
    "kernelspec": {
      "name": "python3",
      "display_name": "Python 3"
    }
  },
  "cells": [
    {
      "cell_type": "markdown",
      "metadata": {
        "id": "view-in-github",
        "colab_type": "text"
      },
      "source": [
        "<a href=\"https://colab.research.google.com/github/vkthakur90/jupyter_notebooks/blob/master/Colab_Notebook_1.ipynb\" target=\"_parent\"><img src=\"https://colab.research.google.com/assets/colab-badge.svg\" alt=\"Open In Colab\"/></a>"
      ]
    },
    {
      "metadata": {
        "id": "bMgvxEDXfWxh",
        "colab_type": "text"
      },
      "cell_type": "markdown",
      "source": [
        "# First Notebook created using Google colab"
      ]
    },
    {
      "metadata": {
        "id": "7qoAUHBhf1gz",
        "colab_type": "text"
      },
      "cell_type": "markdown",
      "source": [
        "## Imports"
      ]
    },
    {
      "metadata": {
        "id": "4390qEL6figq",
        "colab_type": "code",
        "colab": {}
      },
      "cell_type": "code",
      "source": [
        "import numpy as np\n",
        "import pandas as pd\n",
        "import seaborn as sns\n",
        "import scipy.linalg as la"
      ],
      "execution_count": 0,
      "outputs": []
    },
    {
      "metadata": {
        "id": "wCssSUQigfcM",
        "colab_type": "text"
      },
      "cell_type": "markdown",
      "source": [
        "## Creating sample input data"
      ]
    },
    {
      "metadata": {
        "id": "dh7byc1Cgjsa",
        "colab_type": "code",
        "colab": {}
      },
      "cell_type": "code",
      "source": [
        "x = np.random.uniform(low = -50, high = 50, size = 100 * 100 + 1)\n",
        "err = np.random.normal(loc = 0, scale = 5, size = 100 * 100 + 1)"
      ],
      "execution_count": 0,
      "outputs": []
    },
    {
      "metadata": {
        "id": "OBu7fWHhhD_O",
        "colab_type": "code",
        "colab": {
          "base_uri": "https://localhost:8080/",
          "height": 206
        },
        "outputId": "5cd752e6-cf94-40a0-f8a2-12f790a9e02a"
      },
      "cell_type": "code",
      "source": [
        "data = pd.DataFrame(dict(x = x, e = err))\n",
        "display(data.head())"
      ],
      "execution_count": 3,
      "outputs": [
        {
          "output_type": "display_data",
          "data": {
            "text/html": [
              "<div>\n",
              "<style scoped>\n",
              "    .dataframe tbody tr th:only-of-type {\n",
              "        vertical-align: middle;\n",
              "    }\n",
              "\n",
              "    .dataframe tbody tr th {\n",
              "        vertical-align: top;\n",
              "    }\n",
              "\n",
              "    .dataframe thead th {\n",
              "        text-align: right;\n",
              "    }\n",
              "</style>\n",
              "<table border=\"1\" class=\"dataframe\">\n",
              "  <thead>\n",
              "    <tr style=\"text-align: right;\">\n",
              "      <th></th>\n",
              "      <th>e</th>\n",
              "      <th>x</th>\n",
              "    </tr>\n",
              "  </thead>\n",
              "  <tbody>\n",
              "    <tr>\n",
              "      <th>0</th>\n",
              "      <td>4.120372</td>\n",
              "      <td>-43.342447</td>\n",
              "    </tr>\n",
              "    <tr>\n",
              "      <th>1</th>\n",
              "      <td>5.154300</td>\n",
              "      <td>-6.359363</td>\n",
              "    </tr>\n",
              "    <tr>\n",
              "      <th>2</th>\n",
              "      <td>3.942046</td>\n",
              "      <td>15.588748</td>\n",
              "    </tr>\n",
              "    <tr>\n",
              "      <th>3</th>\n",
              "      <td>2.631900</td>\n",
              "      <td>-41.751290</td>\n",
              "    </tr>\n",
              "    <tr>\n",
              "      <th>4</th>\n",
              "      <td>-4.264183</td>\n",
              "      <td>-11.743101</td>\n",
              "    </tr>\n",
              "  </tbody>\n",
              "</table>\n",
              "</div>"
            ],
            "text/plain": [
              "          e          x\n",
              "0  4.120372 -43.342447\n",
              "1  5.154300  -6.359363\n",
              "2  3.942046  15.588748\n",
              "3  2.631900 -41.751290\n",
              "4 -4.264183 -11.743101"
            ]
          },
          "metadata": {
            "tags": []
          }
        }
      ]
    },
    {
      "metadata": {
        "id": "6Sm0sF1phZwf",
        "colab_type": "text"
      },
      "cell_type": "markdown",
      "source": [
        "## Creating model from data"
      ]
    },
    {
      "metadata": {
        "id": "iZUHNnhrhe9A",
        "colab_type": "text"
      },
      "cell_type": "markdown",
      "source": [
        "\\begin{equation}\n",
        "    y = 10 + 15 x - 25 x^2\n",
        "\\end{equation}"
      ]
    },
    {
      "metadata": {
        "id": "FekCDdrUhR-C",
        "colab_type": "code",
        "colab": {
          "base_uri": "https://localhost:8080/",
          "height": 206
        },
        "outputId": "ac273a1e-647f-442c-9293-6c33db87af73"
      },
      "cell_type": "code",
      "source": [
        "data.eval('y = 10 + 15 * x - 25 * x ** 2 + e', inplace = True)\n",
        "display(data.head())"
      ],
      "execution_count": 4,
      "outputs": [
        {
          "output_type": "display_data",
          "data": {
            "text/html": [
              "<div>\n",
              "<style scoped>\n",
              "    .dataframe tbody tr th:only-of-type {\n",
              "        vertical-align: middle;\n",
              "    }\n",
              "\n",
              "    .dataframe tbody tr th {\n",
              "        vertical-align: top;\n",
              "    }\n",
              "\n",
              "    .dataframe thead th {\n",
              "        text-align: right;\n",
              "    }\n",
              "</style>\n",
              "<table border=\"1\" class=\"dataframe\">\n",
              "  <thead>\n",
              "    <tr style=\"text-align: right;\">\n",
              "      <th></th>\n",
              "      <th>e</th>\n",
              "      <th>x</th>\n",
              "      <th>y</th>\n",
              "    </tr>\n",
              "  </thead>\n",
              "  <tbody>\n",
              "    <tr>\n",
              "      <th>0</th>\n",
              "      <td>4.120372</td>\n",
              "      <td>-43.342447</td>\n",
              "      <td>-47600.208509</td>\n",
              "    </tr>\n",
              "    <tr>\n",
              "      <th>1</th>\n",
              "      <td>5.154300</td>\n",
              "      <td>-6.359363</td>\n",
              "      <td>-1091.273677</td>\n",
              "    </tr>\n",
              "    <tr>\n",
              "      <th>2</th>\n",
              "      <td>3.942046</td>\n",
              "      <td>15.588748</td>\n",
              "      <td>-5827.453688</td>\n",
              "    </tr>\n",
              "    <tr>\n",
              "      <th>3</th>\n",
              "      <td>2.631900</td>\n",
              "      <td>-41.751290</td>\n",
              "      <td>-44192.892890</td>\n",
              "    </tr>\n",
              "    <tr>\n",
              "      <th>4</th>\n",
              "      <td>-4.264183</td>\n",
              "      <td>-11.743101</td>\n",
              "      <td>-3617.921446</td>\n",
              "    </tr>\n",
              "  </tbody>\n",
              "</table>\n",
              "</div>"
            ],
            "text/plain": [
              "          e          x             y\n",
              "0  4.120372 -43.342447 -47600.208509\n",
              "1  5.154300  -6.359363  -1091.273677\n",
              "2  3.942046  15.588748  -5827.453688\n",
              "3  2.631900 -41.751290 -44192.892890\n",
              "4 -4.264183 -11.743101  -3617.921446"
            ]
          },
          "metadata": {
            "tags": []
          }
        }
      ]
    },
    {
      "metadata": {
        "id": "kILGF2nxiDTz",
        "colab_type": "text"
      },
      "cell_type": "markdown",
      "source": [
        "## Visualizing Raw Data"
      ]
    },
    {
      "metadata": {
        "id": "qt_2OeqYiGBd",
        "colab_type": "code",
        "colab": {
          "base_uri": "https://localhost:8080/",
          "height": 437
        },
        "outputId": "f63ca641-0766-4add-d222-256742cb418f"
      },
      "cell_type": "code",
      "source": [
        "_ = sns.jointplot(x = 'x', y = 'y', data = data)"
      ],
      "execution_count": 5,
      "outputs": [
        {
          "output_type": "display_data",
          "data": {
            "image/png": "[encoded data removed]",
            "text/plain": [
              "<matplotlib.figure.Figure at 0x7fa085d946d8>"
            ]
          },
          "metadata": {
            "tags": []
          }
        }
      ]
    },
    {
      "metadata": {
        "id": "jeioahWSi-N5",
        "colab_type": "text"
      },
      "cell_type": "markdown",
      "source": [
        "## Fitting linear model"
      ]
    },
    {
      "metadata": {
        "id": "ih4MMuhGjDQJ",
        "colab_type": "code",
        "colab": {
          "base_uri": "https://localhost:8080/",
          "height": 238
        },
        "outputId": "2f8aa41c-ee04-45f0-b033-bf541ed2714a"
      },
      "cell_type": "code",
      "source": [
        "design_matrix = pd.DataFrame({\n",
        "    ('features', '1') : data['x'].apply(lambda x: 1),\n",
        "    ('features', 'x') : data['x'],\n",
        "    ('features', 'x**2') : data['x'].apply(lambda x: x**2),\n",
        "    ('labels', 'y') : data['y']\n",
        "})\n",
        "\n",
        "display(design_matrix.head())"
      ],
      "execution_count": 6,
      "outputs": [
        {
          "output_type": "display_data",
          "data": {
            "text/html": [
              "<div>\n",
              "<style scoped>\n",
              "    .dataframe tbody tr th:only-of-type {\n",
              "        vertical-align: middle;\n",
              "    }\n",
              "\n",
              "    .dataframe tbody tr th {\n",
              "        vertical-align: top;\n",
              "    }\n",
              "\n",
              "    .dataframe thead tr th {\n",
              "        text-align: left;\n",
              "    }\n",
              "</style>\n",
              "<table border=\"1\" class=\"dataframe\">\n",
              "  <thead>\n",
              "    <tr>\n",
              "      <th></th>\n",
              "      <th colspan=\"3\" halign=\"left\">features</th>\n",
              "      <th>labels</th>\n",
              "    </tr>\n",
              "    <tr>\n",
              "      <th></th>\n",
              "      <th>1</th>\n",
              "      <th>x</th>\n",
              "      <th>x**2</th>\n",
              "      <th>y</th>\n",
              "    </tr>\n",
              "  </thead>\n",
              "  <tbody>\n",
              "    <tr>\n",
              "      <th>0</th>\n",
              "      <td>1</td>\n",
              "      <td>-43.342447</td>\n",
              "      <td>1878.567687</td>\n",
              "      <td>-47600.208509</td>\n",
              "    </tr>\n",
              "    <tr>\n",
              "      <th>1</th>\n",
              "      <td>1</td>\n",
              "      <td>-6.359363</td>\n",
              "      <td>40.441501</td>\n",
              "      <td>-1091.273677</td>\n",
              "    </tr>\n",
              "    <tr>\n",
              "      <th>2</th>\n",
              "      <td>1</td>\n",
              "      <td>15.588748</td>\n",
              "      <td>243.009078</td>\n",
              "      <td>-5827.453688</td>\n",
              "    </tr>\n",
              "    <tr>\n",
              "      <th>3</th>\n",
              "      <td>1</td>\n",
              "      <td>-41.751290</td>\n",
              "      <td>1743.170218</td>\n",
              "      <td>-44192.892890</td>\n",
              "    </tr>\n",
              "    <tr>\n",
              "      <th>4</th>\n",
              "      <td>1</td>\n",
              "      <td>-11.743101</td>\n",
              "      <td>137.900430</td>\n",
              "      <td>-3617.921446</td>\n",
              "    </tr>\n",
              "  </tbody>\n",
              "</table>\n",
              "</div>"
            ],
            "text/plain": [
              "  features                                labels\n",
              "         1          x         x**2             y\n",
              "0        1 -43.342447  1878.567687 -47600.208509\n",
              "1        1  -6.359363    40.441501  -1091.273677\n",
              "2        1  15.588748   243.009078  -5827.453688\n",
              "3        1 -41.751290  1743.170218 -44192.892890\n",
              "4        1 -11.743101   137.900430  -3617.921446"
            ]
          },
          "metadata": {
            "tags": []
          }
        }
      ]
    },
    {
      "metadata": {
        "id": "feUNgfcGkFP2",
        "colab_type": "text"
      },
      "cell_type": "markdown",
      "source": [
        "## Calculation of parameters using design matrix"
      ]
    },
    {
      "metadata": {
        "id": "2Xgznt4qjNwB",
        "colab_type": "code",
        "colab": {}
      },
      "cell_type": "code",
      "source": [
        "X = np.matrix(design_matrix['features'])\n",
        "Y = np.matrix(design_matrix['labels'])"
      ],
      "execution_count": 0,
      "outputs": []
    },
    {
      "metadata": {
        "id": "EqXYuj3LkYA-",
        "colab_type": "code",
        "colab": {}
      },
      "cell_type": "code",
      "source": [
        "C = la.inv(X.T * X) * (X.T * Y)"
      ],
      "execution_count": 0,
      "outputs": []
    },
    {
      "metadata": {
        "id": "bQjWSchckgBf",
        "colab_type": "code",
        "colab": {
          "base_uri": "https://localhost:8080/",
          "height": 81
        },
        "outputId": "ee21ab58-1d0d-41d6-ffe5-a5110af2f93d"
      },
      "cell_type": "code",
      "source": [
        "pd.DataFrame(C.T, columns = ['Intercept', 'x', 'I(x**2)'], index = ['coeff'])"
      ],
      "execution_count": 9,
      "outputs": [
        {
          "output_type": "execute_result",
          "data": {
            "text/html": [
              "<div>\n",
              "<style scoped>\n",
              "    .dataframe tbody tr th:only-of-type {\n",
              "        vertical-align: middle;\n",
              "    }\n",
              "\n",
              "    .dataframe tbody tr th {\n",
              "        vertical-align: top;\n",
              "    }\n",
              "\n",
              "    .dataframe thead th {\n",
              "        text-align: right;\n",
              "    }\n",
              "</style>\n",
              "<table border=\"1\" class=\"dataframe\">\n",
              "  <thead>\n",
              "    <tr style=\"text-align: right;\">\n",
              "      <th></th>\n",
              "      <th>Intercept</th>\n",
              "      <th>x</th>\n",
              "      <th>I(x**2)</th>\n",
              "    </tr>\n",
              "  </thead>\n",
              "  <tbody>\n",
              "    <tr>\n",
              "      <th>coeff</th>\n",
              "      <td>10.011925</td>\n",
              "      <td>14.999334</td>\n",
              "      <td>-25.000042</td>\n",
              "    </tr>\n",
              "  </tbody>\n",
              "</table>\n",
              "</div>"
            ],
            "text/plain": [
              "       Intercept          x    I(x**2)\n",
              "coeff  10.011925  14.999334 -25.000042"
            ]
          },
          "metadata": {
            "tags": []
          },
          "execution_count": 9
        }
      ]
    }
  ]
}