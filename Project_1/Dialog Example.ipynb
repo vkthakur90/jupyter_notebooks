{
 "cells": [
  {
   "cell_type": "code",
   "execution_count": 1,
   "metadata": {},
   "outputs": [],
   "source": [
    "%matplotlib notebook"
   ]
  },
  {
   "cell_type": "code",
   "execution_count": 2,
   "metadata": {},
   "outputs": [],
   "source": [
    "import numpy as np\n",
    "import pandas as pd\n",
    "import matplotlib.pyplot as plt\n",
    "import ipywidgets as widgets"
   ]
  },
  {
   "cell_type": "code",
   "execution_count": 3,
   "metadata": {},
   "outputs": [],
   "source": [
    "class TempDialog:\n",
    "    def __init__(self, *args, **kwds):\n",
    "        self.__num1 = widgets.Text(description = 'Number 1', value = '0.0')\n",
    "        self.__num2 = widgets.Text(description = 'Number 2', value = '0.0')\n",
    "        self.__res_btn = widgets.Button(description = 'Result')\n",
    "        self.__res_label = widgets.Label(value = '0.0')\n",
    "        \n",
    "        if kwds['bin_op'] is None:\n",
    "            self.__bin_op = lambda x, y: x + y\n",
    "        else:\n",
    "            self.__bin_op = kwds['bin_op']\n",
    "        \n",
    "        def __get_result(btn):\n",
    "            self.__res_label.value = str(self.__bin_op(float(self.__num1.value), float(self.__num2.value)))\n",
    "        \n",
    "        self.__res_btn.on_click(__get_result)\n",
    "        display(widgets.VBox([self.__num1, self.__num2, widgets.HBox([self.__res_btn, self.__res_label])]))\n",
    "    \n",
    "    @property\n",
    "    def bin_op(self):\n",
    "        return self.__bin_op\n",
    "    \n",
    "    @property\n",
    "    def bin_op(self, value):\n",
    "        self.__bin_op = value"
   ]
  },
  {
   "cell_type": "code",
   "execution_count": 4,
   "metadata": {},
   "outputs": [
    {
     "data": {
      "application/vnd.jupyter.widget-view+json": {
       "model_id": "d161b9c749db46278c457cfdf2a51032",
       "version_major": 2,
       "version_minor": 0
      },
      "text/plain": [
       "VBox(children=(Text(value='0.0', description='Number 1'), Text(value='0.0', description='Number 2'), HBox(chil…"
      ]
     },
     "metadata": {},
     "output_type": "display_data"
    },
    {
     "data": {
      "text/plain": [
       "<__main__.TempDialog at 0x7f5f24d74828>"
      ]
     },
     "execution_count": 4,
     "metadata": {},
     "output_type": "execute_result"
    }
   ],
   "source": [
    "_ = TempDialog(bin_op = lambda x, y : x + y)"
   ]
  },
  {
   "cell_type": "code",
   "execution_count": 5,
   "metadata": {},
   "outputs": [
    {
     "data": {
      "application/vnd.jupyter.widget-view+json": {
       "model_id": "474542a722fd43d3a8a3d7eb425ffaa6",
       "version_major": 2,
       "version_minor": 0
      },
      "text/plain": [
       "VBox(children=(Text(value='0.0', description='Number 1'), Text(value='0.0', description='Number 2'), HBox(chil…"
      ]
     },
     "metadata": {},
     "output_type": "display_data"
    },
    {
     "data": {
      "text/plain": [
       "<__main__.TempDialog at 0x7f5f24d74780>"
      ]
     },
     "execution_count": 5,
     "metadata": {},
     "output_type": "execute_result"
    }
   ],
   "source": [
    "_ = TempDialog(bin_op = lambda x, y : x - y)"
   ]
  },
  {
   "cell_type": "code",
   "execution_count": 6,
   "metadata": {},
   "outputs": [
    {
     "data": {
      "application/vnd.jupyter.widget-view+json": {
       "model_id": "6abfe302ef754f7985c2cfe09c13c632",
       "version_major": 2,
       "version_minor": 0
      },
      "text/plain": [
       "VBox(children=(Text(value='0.0', description='Number 1'), Text(value='0.0', description='Number 2'), HBox(chil…"
      ]
     },
     "metadata": {},
     "output_type": "display_data"
    },
    {
     "data": {
      "text/plain": [
       "<__main__.TempDialog at 0x7f5f24d71b00>"
      ]
     },
     "execution_count": 6,
     "metadata": {},
     "output_type": "execute_result"
    }
   ],
   "source": [
    "_ = TempDialog(bin_op = lambda x, y : x * y)"
   ]
  }
 ],
 "metadata": {
  "kernelspec": {
   "display_name": "Python 3",
   "language": "python",
   "name": "python3"
  },
  "language_info": {
   "codemirror_mode": {
    "name": "ipython",
    "version": 3
   },
   "file_extension": ".py",
   "mimetype": "text/x-python",
   "name": "python",
   "nbconvert_exporter": "python",
   "pygments_lexer": "ipython3",
   "version": "3.6.5"
  }
 },
 "nbformat": 4,
 "nbformat_minor": 2
}
