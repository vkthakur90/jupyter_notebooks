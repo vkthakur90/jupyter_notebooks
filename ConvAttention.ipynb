{
  "nbformat": 4,
  "nbformat_minor": 0,
  "metadata": {
    "colab": {
      "provenance": [],
      "authorship_tag": "ABX9TyPPNHOWklRypA7EQ6Zl122k",
      "include_colab_link": true
    },
    "kernelspec": {
      "name": "python3",
      "display_name": "Python 3"
    },
    "language_info": {
      "name": "python"
    }
  },
  "cells": [
    {
      "cell_type": "markdown",
      "metadata": {
        "id": "view-in-github",
        "colab_type": "text"
      },
      "source": [
        "<a href=\"https://colab.research.google.com/github/vkthakur90/jupyter_notebooks/blob/master/ConvAttention.ipynb\" target=\"_parent\"><img src=\"https://colab.research.google.com/assets/colab-badge.svg\" alt=\"Open In Colab\"/></a>"
      ]
    },
    {
      "cell_type": "code",
      "execution_count": 1,
      "metadata": {
        "id": "ZY0tQiwzrs9n"
      },
      "outputs": [],
      "source": [
        "import numpy as np\n",
        "import pandas as pd\n",
        "import seaborn as sns\n",
        "import matplotlib.pyplot as plt"
      ]
    },
    {
      "cell_type": "code",
      "source": [
        "import tensorflow as tf\n",
        "import tensorflow.keras as tfk\n",
        "import tensorflow.keras.models as tfkm\n",
        "import tensorflow.keras.layers as tfkl\n",
        "import tensorflow.keras.utils as tfku"
      ],
      "metadata": {
        "id": "domCcWPdsE67"
      },
      "execution_count": 2,
      "outputs": []
    },
    {
      "cell_type": "code",
      "source": [
        "(x_train, y_train), (x_test, y_test) = tfk.datasets.cifar10.load_data()"
      ],
      "metadata": {
        "id": "ucX-am3-tETW"
      },
      "execution_count": 3,
      "outputs": []
    },
    {
      "cell_type": "code",
      "source": [
        "@tfku.register_keras_serializable()\n",
        "class GaussianConv(tfkl.Layer):\n",
        "    def __init__(self):\n",
        "        super().__init__()\n",
        "\n",
        "    def get_config(self):\n",
        "        return super().get_config()\n",
        "\n",
        "    def build(self, input_shape):\n",
        "        inp = tfkl.Input(input_shape[1:])\n",
        "        gaussian = tfkl.DepthwiseConv2D((3, 3), use_bias = False, padding = 'same')\n",
        "\n",
        "        gaussian_filter = np.array([\n",
        "            [1/16, 2/16, 1/16],\n",
        "            [2/16, 4/16, 2/16],\n",
        "            [1/16, 2/16, 1/16]\n",
        "        ])[..., np.newaxis, np.newaxis]\n",
        "\n",
        "\n",
        "        x = inp\n",
        "        x = tfkl.Lambda(lambda t: tf.split(t, num_or_size_splits = input_shape[-1], axis = -1))(x)\n",
        "        x = [gaussian(t) for t in x]\n",
        "        x = tfkl.Concatenate(axis = -1)(x)\n",
        "\n",
        "        out = x\n",
        "\n",
        "        gaussian.set_weights([gaussian_filter])\n",
        "\n",
        "        gaussian.trainable = False\n",
        "\n",
        "        self.forward = tfkm.Model(inputs = [inp], outputs = [out])\n",
        "\n",
        "    def call(self, input):\n",
        "        return self.forward(input)"
      ],
      "metadata": {
        "id": "Pk4mMIHXhTxK"
      },
      "execution_count": 4,
      "outputs": []
    },
    {
      "cell_type": "code",
      "source": [
        "@tfku.register_keras_serializable()\n",
        "class LaplacianConv(tfkl.Layer):\n",
        "    def __init__(self):\n",
        "        super().__init__()\n",
        "\n",
        "    def get_config(self):\n",
        "        return super().get_config()\n",
        "\n",
        "    def build(self, input_shape):\n",
        "        inp = tfkl.Input(input_shape[1:])\n",
        "        laplacian = tfkl.DepthwiseConv2D((3, 3), use_bias = False, padding = 'same')\n",
        "\n",
        "        laplacian_filter = np.array([\n",
        "            [ 0.0, -1.0,  0.0],\n",
        "            [-1.0,  4.0, -1.0],\n",
        "            [ 0.0, -1.0,  0.0]\n",
        "        ])[..., np.newaxis, np.newaxis]\n",
        "\n",
        "        x = inp\n",
        "        x = tfkl.Lambda(lambda t: tf.split(t, num_or_size_splits = input_shape[-1], axis = -1))(x)\n",
        "        x = [laplacian(t) for t in x]\n",
        "        x = tfkl.Concatenate(axis = -1)(x)\n",
        "\n",
        "        out = x\n",
        "\n",
        "        laplacian.set_weights([laplacian_filter])\n",
        "\n",
        "        laplacian.trainable = False\n",
        "\n",
        "\n",
        "        self.forward = tfkm.Model(inputs = [inp], outputs = [out])\n",
        "\n",
        "    def call(self, input):\n",
        "        return self.forward(input)"
      ],
      "metadata": {
        "id": "ncRO-WBghbml"
      },
      "execution_count": 5,
      "outputs": []
    },
    {
      "cell_type": "code",
      "source": [
        "@tfku.register_keras_serializable()\n",
        "class DownPoolLayer(tfkl.Layer):\n",
        "    def __init__(self):\n",
        "        super().__init__()\n",
        "\n",
        "    def get_config(self):\n",
        "        return super().get_config()\n",
        "\n",
        "    def build(self, input_shape):\n",
        "        inp = tfkl.Input(input_shape[1:])\n",
        "\n",
        "        x = inp\n",
        "\n",
        "        z1 = tfkl.MaxPool2D((2, 2))(x)\n",
        "        z2 = tfkl.Lambda(lambda t: -t)(x)\n",
        "        z2 = tfkl.MaxPool2D((2, 2))(z2)\n",
        "        z2 = tfkl.Lambda(lambda t: -t)(z2)\n",
        "        y = tfkl.Concatenate(axis = -1)([z1, z2])\n",
        "\n",
        "        out = y\n",
        "\n",
        "        self.forward = tfkm.Model(inputs = [inp], outputs = [out])\n",
        "\n",
        "    def call(self, input):\n",
        "        return self.forward(input)"
      ],
      "metadata": {
        "id": "vJi_bnGyhqtz"
      },
      "execution_count": 6,
      "outputs": []
    },
    {
      "cell_type": "code",
      "source": [
        "@tfku.register_keras_serializable()\n",
        "class EdgeDetectionLayer(tfkl.Layer):\n",
        "    def __init__(self):\n",
        "        super().__init__()\n",
        "\n",
        "    def get_config(self):\n",
        "        return super().get_config()\n",
        "\n",
        "    def build(self, input_shape):\n",
        "        inp = tfkl.Input(input_shape[1:])\n",
        "\n",
        "        x = inp\n",
        "\n",
        "        x = GaussianConv()(x)\n",
        "        x = LaplacianConv()(x)\n",
        "        x = tfkl.ReLU()(x)\n",
        "\n",
        "        out = x\n",
        "\n",
        "        self.forward = tfkm.Model(inputs = [inp], outputs = [out])\n",
        "\n",
        "    def call(self, input):\n",
        "        return self.forward(input)"
      ],
      "metadata": {
        "id": "DrolS-gFhzi5"
      },
      "execution_count": 7,
      "outputs": []
    },
    {
      "cell_type": "code",
      "source": [
        "@tfku.register_keras_serializable()\n",
        "class PyramidConvFeatures(tfkl.Layer):\n",
        "    def __init__(self):\n",
        "        super().__init__()\n",
        "\n",
        "    def get_config(self):\n",
        "        return super().get_config()\n",
        "\n",
        "    def build(self, input_shape):\n",
        "        inp = tfkl.Input(input_shape[1:])\n",
        "\n",
        "        x = inp\n",
        "        x = tfkl.Rescaling(scale = 1/127.5, offset = -1)(x)\n",
        "\n",
        "        y = x\n",
        "        y = GaussianConv()(y)\n",
        "        y = LaplacianConv()(y)\n",
        "        x0 = y\n",
        "\n",
        "\n",
        "        x = DownPoolLayer()(x)\n",
        "        x1 = EdgeDetectionLayer()(x)\n",
        "\n",
        "        x = DownPoolLayer()(x)\n",
        "        x2 = EdgeDetectionLayer()(x)\n",
        "\n",
        "        x = DownPoolLayer()(x)\n",
        "        x3 = EdgeDetectionLayer()(x)\n",
        "\n",
        "        x = DownPoolLayer()(x)\n",
        "        x4 = EdgeDetectionLayer()(x)\n",
        "\n",
        "        x = DownPoolLayer()(x)\n",
        "        x5 = EdgeDetectionLayer()(x)\n",
        "\n",
        "        x = tfkl.UpSampling2D((2, 2), interpolation = 'nearest')(x5)\n",
        "\n",
        "        x = tfkl.Concatenate(axis = -1)([x4, x])\n",
        "        x = tfkl.UpSampling2D((2, 2), interpolation = 'nearest')(x)\n",
        "\n",
        "\n",
        "        x = tfkl.Concatenate(axis = -1)([x3, x])\n",
        "        x = tfkl.UpSampling2D((2, 2), interpolation = 'nearest')(x)\n",
        "\n",
        "        x = tfkl.Concatenate(axis = -1)([x2, x])\n",
        "        x = tfkl.UpSampling2D((2, 2), interpolation = 'nearest')(x)\n",
        "\n",
        "        x = tfkl.Concatenate(axis = -1)([x1, x])\n",
        "        x = tfkl.UpSampling2D((2, 2), interpolation = 'nearest')(x)\n",
        "\n",
        "        x = tfkl.Concatenate(axis = -1)([x0, x])\n",
        "\n",
        "        out = x\n",
        "\n",
        "        self.forward = tfkm.Model(inputs = [inp], outputs = [out])\n",
        "\n",
        "    def call(self, input):\n",
        "        return self.forward(input)"
      ],
      "metadata": {
        "id": "6rCr20Dih5hB"
      },
      "execution_count": 8,
      "outputs": []
    },
    {
      "cell_type": "code",
      "source": [
        "def create_base_model():\n",
        "    img = tfkl.Input([32, 32, 3], name = 'image')\n",
        "    labels = tfkl.Input([1], name = 'labels')\n",
        "\n",
        "    x = PyramidConvFeatures()(img)\n",
        "    x = tfkl.Reshape([32 * 32, 189])(x)\n",
        "    x = tfkl.BatchNormalization(axis = -1)(x)\n",
        "    x = tfkl.Activation('tanh')(x)\n",
        "    features = x\n",
        "\n",
        "    embed = tfkl.Embedding(input_dim = 10, output_dim = 189)(labels)\n",
        "\n",
        "    x = embed\n",
        "\n",
        "    res = x\n",
        "    x = tfkl.Attention(use_scale = True)([x, features])\n",
        "\n",
        "    x = tfkl.Flatten()(x)\n",
        "    x = tfkl.Dense(10)(x)\n",
        "\n",
        "    out = x\n",
        "\n",
        "    return tfkm.Model(inputs = [img, labels], outputs = [out])\n"
      ],
      "metadata": {
        "id": "smM8r4Kyh7_Q"
      },
      "execution_count": 9,
      "outputs": []
    },
    {
      "cell_type": "code",
      "source": [
        "base_model = create_base_model()"
      ],
      "metadata": {
        "id": "koLsI5IV5TA1"
      },
      "execution_count": 10,
      "outputs": []
    },
    {
      "cell_type": "code",
      "source": [
        "base_model.summary()"
      ],
      "metadata": {
        "colab": {
          "base_uri": "https://localhost:8080/"
        },
        "id": "9J9tx_hhkQDU",
        "outputId": "4a5ca506-dc7d-4415-e707-9a1b43750679"
      },
      "execution_count": 11,
      "outputs": [
        {
          "output_type": "stream",
          "name": "stdout",
          "text": [
            "Model: \"model\"\n",
            "__________________________________________________________________________________________________\n",
            " Layer (type)                Output Shape                 Param #   Connected to                  \n",
            "==================================================================================================\n",
            " image (InputLayer)          [(None, 32, 32, 3)]          0         []                            \n",
            "                                                                                                  \n",
            " pyramid_conv_features (Pyr  (None, 32, 32, 189)          108       ['image[0][0]']               \n",
            " amidConvFeatures)                                                                                \n",
            "                                                                                                  \n",
            " reshape (Reshape)           (None, 1024, 189)            0         ['pyramid_conv_features[0][0]'\n",
            "                                                                    ]                             \n",
            "                                                                                                  \n",
            " labels (InputLayer)         [(None, 1)]                  0         []                            \n",
            "                                                                                                  \n",
            " batch_normalization (Batch  (None, 1024, 189)            756       ['reshape[0][0]']             \n",
            " Normalization)                                                                                   \n",
            "                                                                                                  \n",
            " embedding (Embedding)       (None, 1, 189)               1890      ['labels[0][0]']              \n",
            "                                                                                                  \n",
            " activation (Activation)     (None, 1024, 189)            0         ['batch_normalization[0][0]'] \n",
            "                                                                                                  \n",
            " attention (Attention)       (None, 1, 189)               1         ['embedding[0][0]',           \n",
            "                                                                     'activation[0][0]']          \n",
            "                                                                                                  \n",
            " flatten (Flatten)           (None, 189)                  0         ['attention[0][0]']           \n",
            "                                                                                                  \n",
            " dense (Dense)               (None, 10)                   1900      ['flatten[0][0]']             \n",
            "                                                                                                  \n",
            "==================================================================================================\n",
            "Total params: 4655 (18.18 KB)\n",
            "Trainable params: 4169 (16.29 KB)\n",
            "Non-trainable params: 486 (1.90 KB)\n",
            "__________________________________________________________________________________________________\n"
          ]
        }
      ]
    },
    {
      "cell_type": "code",
      "source": [
        "base_model.compile(\n",
        "    optimizer = tfk.optimizers.AdamW(),\n",
        "    loss = tfk.losses.SparseCategoricalCrossentropy(from_logits = True),\n",
        "    metrics = ['accuracy']\n",
        ")"
      ],
      "metadata": {
        "id": "NT6oC1wdlCU5"
      },
      "execution_count": 12,
      "outputs": []
    },
    {
      "cell_type": "code",
      "source": [
        "norm_x_train = x_train/127.5 - 1"
      ],
      "metadata": {
        "id": "rRU_rhq-tpFB"
      },
      "execution_count": 13,
      "outputs": []
    },
    {
      "cell_type": "code",
      "source": [
        "labels = np.stack(x_train.shape[0] * [[0]], axis = 0)"
      ],
      "metadata": {
        "id": "Yv92dXFd7qCU"
      },
      "execution_count": 14,
      "outputs": []
    },
    {
      "cell_type": "code",
      "source": [
        "dataset = (\n",
        "    tf.data.Dataset.from_tensor_slices((x_train, y_train))\n",
        "                   .map(lambda t, u : ((t, u), u))\n",
        "                   .repeat(1)\n",
        "                   .batch(8)\n",
        ")\n",
        "\n",
        "base_model.fit(dataset)"
      ],
      "metadata": {
        "colab": {
          "base_uri": "https://localhost:8080/"
        },
        "id": "b9ZiW6VvqXff",
        "outputId": "6b63ab69-fccd-4e69-b4b9-bb2205d50dae"
      },
      "execution_count": 15,
      "outputs": [
        {
          "output_type": "stream",
          "name": "stdout",
          "text": [
            "6250/6250 [==============================] - 273s 42ms/step - loss: 0.2552 - accuracy: 0.9271\n"
          ]
        },
        {
          "output_type": "execute_result",
          "data": {
            "text/plain": [
              "<keras.src.callbacks.History at 0x79d68d6fbe50>"
            ]
          },
          "metadata": {},
          "execution_count": 15
        }
      ]
    },
    {
      "cell_type": "code",
      "source": [
        "test_label = np.stack(x_test.shape[0] * [[0]], axis = 0)"
      ],
      "metadata": {
        "id": "pgqcuA1T858y"
      },
      "execution_count": 16,
      "outputs": []
    },
    {
      "cell_type": "code",
      "source": [
        "base_model.evaluate(x = [x_test, y_test], y = y_test)"
      ],
      "metadata": {
        "id": "H_Iu0GXeySOk",
        "colab": {
          "base_uri": "https://localhost:8080/"
        },
        "outputId": "7978d792-a052-434e-9ae0-4927daa12711"
      },
      "execution_count": 17,
      "outputs": [
        {
          "output_type": "stream",
          "name": "stdout",
          "text": [
            "313/313 [==============================] - 32s 95ms/step - loss: 0.0228 - accuracy: 0.9955\n"
          ]
        },
        {
          "output_type": "execute_result",
          "data": {
            "text/plain": [
              "[0.022776726633310318, 0.9955000281333923]"
            ]
          },
          "metadata": {},
          "execution_count": 17
        }
      ]
    }
  ]
}